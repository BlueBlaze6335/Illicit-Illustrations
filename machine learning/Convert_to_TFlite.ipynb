{
  "nbformat": 4,
  "nbformat_minor": 0,
  "metadata": {
    "colab": {
      "name": "Convert to TFlite",
      "provenance": []
    },
    "kernelspec": {
      "name": "python3",
      "display_name": "Python 3"
    },
    "language_info": {
      "name": "python"
    }
  },
  "cells": [
    {
      "cell_type": "code",
      "execution_count": 3,
      "metadata": {
        "colab": {
          "base_uri": "https://localhost:8080/"
        },
        "id": "Ff33cv511AJ7",
        "outputId": "aee69386-33fe-4a25-b111-7d6e28b4c0d1"
      },
      "outputs": [
        {
          "output_type": "stream",
          "name": "stdout",
          "text": [
            "WARNING:tensorflow:No training configuration found in the save file, so the model was *not* compiled. Compile it manually.\n",
            "INFO:tensorflow:Assets written to: /tmp/tmpltsgwhj3/assets\n"
          ]
        },
        {
          "output_type": "stream",
          "name": "stderr",
          "text": [
            "WARNING:absl:Buffer deduplication procedure will be skipped when flatbuffer library is not properly loaded\n"
          ]
        }
      ],
      "source": [
        "import tensorflow as tf\n",
        "\n",
        "model = tf.keras.models.load_model('/content/vangogh.keras')\n",
        "# Convert the model\n",
        "converter = tf.lite.TFLiteConverter.from_keras_model(model) # path to the SavedModel directory - upload the saved model \n",
        "tflite_model = converter.convert()\n",
        "\n",
        "# Save the model.\n",
        "with open('vangogh.tflite', 'wb') as f:\n",
        "  f.write(tflite_model)"
      ]
    },
    {
      "cell_type": "code",
      "source": [
        ""
      ],
      "metadata": {
        "id": "40eC8si-2NWX"
      },
      "execution_count": null,
      "outputs": []
    }
  ]
}